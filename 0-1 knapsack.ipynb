{
 "cells": [
  {
   "cell_type": "code",
   "execution_count": null,
   "metadata": {},
   "outputs": [],
   "source": [
    "# https://www.geeksforgeeks.org/0-1-knapsack-problem-dp-10/"
   ]
  },
  {
   "cell_type": "code",
   "execution_count": null,
   "metadata": {},
   "outputs": [],
   "source": [
    "# val = [60, 100, 120] \n",
    "# wt = [10, 20, 30] \n",
    "# W = 50\n",
    "\n",
    "val = [10, 40, 30, 50] \n",
    "wt = [5, 4, 6, 3] \n",
    "W = 10\n",
    "\n",
    "n = len(val) "
   ]
  },
  {
   "cell_type": "code",
   "execution_count": null,
   "metadata": {},
   "outputs": [],
   "source": [
    "# recursive\n",
    "def knapSack(capacity, wt, val, n):\n",
    "    if (n==0 or capacity==0):\n",
    "        return 0\n",
    "    if wt[n-1]<=capacity:\n",
    "        return max(val[n-1]+knapSack(capacity-wt[n-1], wt, val, n-1),\n",
    "                   knapSack(capacity, wt, val, n-1))\n",
    "    elif (wt[n-1]>capacity):\n",
    "        return knapSack(capacity, wt, val, n-1)"
   ]
  },
  {
   "cell_type": "code",
   "execution_count": null,
   "metadata": {},
   "outputs": [],
   "source": [
    "knapSack(W, wt, val, n)"
   ]
  },
  {
   "cell_type": "code",
   "execution_count": null,
   "metadata": {},
   "outputs": [],
   "source": [
    "# recursive + memoize\n",
    "import numpy as np\n",
    "t = -1*np.ones((n+1, W+1),dtype='int')\n",
    "def knapSack(capacity, wt, val, n):\n",
    "    if (n==0 or capacity==0):\n",
    "        return 0\n",
    "    \n",
    "    if t[n, capacity] !=-1:\n",
    "        return t[n, capacity]\n",
    "    \n",
    "    if wt[n-1]<=capacity:\n",
    "        t[n-1, capacity] = max(val[n-1]+knapSack(capacity-wt[n-1], wt, val, n-1),\n",
    "                               knapSack(capacity, wt, val, n-1))\n",
    "        return t[n-1, capacity] \n",
    "    \n",
    "    elif (wt[n-1]>capacity):\n",
    "        t[n-1, capacity] = knapSack(capacity, wt, val, n-1)\n",
    "        return t[n-1, capacity]"
   ]
  },
  {
   "cell_type": "code",
   "execution_count": null,
   "metadata": {},
   "outputs": [],
   "source": [
    "knapSack(W, wt, val, n)"
   ]
  },
  {
   "cell_type": "code",
   "execution_count": null,
   "metadata": {},
   "outputs": [],
   "source": [
    "# np.array([[0 for x in range(W+1)] for x in range(n+1)])"
   ]
  },
  {
   "cell_type": "code",
   "execution_count": null,
   "metadata": {},
   "outputs": [],
   "source": [
    "# Bottom up\n",
    "import numpy as np\n",
    "def knapSack(capacity, wt, val, n):\n",
    "    k = np.zeros((n+1, capacity+1),dtype='int')\n",
    "    \n",
    "    for i in range(n+1):\n",
    "        for j in range(capacity+1):\n",
    "            if (i==0 or j==0):\n",
    "                k[i,j] = 0\n",
    "                \n",
    "            elif wt[i-1]<=j:\n",
    "                k[i,j] = max(val[i-1]+k[i-1, j-wt[i-1]], k[i-1, j])\n",
    "                \n",
    "            else:\n",
    "                k[i,j] = k[i-1, j]\n",
    "    return k[n, capacity] "
   ]
  },
  {
   "cell_type": "code",
   "execution_count": null,
   "metadata": {},
   "outputs": [],
   "source": [
    "knapSack(W, wt, val, n)"
   ]
  },
  {
   "cell_type": "code",
   "execution_count": null,
   "metadata": {},
   "outputs": [],
   "source": []
  },
  {
   "cell_type": "code",
   "execution_count": 46,
   "metadata": {},
   "outputs": [],
   "source": [
    "# Bottom up: Knapsack algorithm\n",
    "# subset sum problem\n",
    "import numpy as np\n",
    "def subsetSum(SUM, arr):\n",
    "    n = len(arr)\n",
    "    S = np.zeros((n+1, SUM+1),dtype='bool')\n",
    "    S[:,0] = True\n",
    "    \n",
    "    for i in range(1, n+1):\n",
    "        for j in range(1, SUM+1):\n",
    "            if arr[i-1]<=j:\n",
    "                S[i,j] = S[i-1, j-arr[i-1]] or S[i-1, j]\n",
    "                \n",
    "            else:\n",
    "                S[i,j] = S[i-1, j]\n",
    "    return S[n, SUM] "
   ]
  },
  {
   "cell_type": "code",
   "execution_count": 47,
   "metadata": {},
   "outputs": [
    {
     "data": {
      "text/plain": [
       "True"
      ]
     },
     "execution_count": 47,
     "metadata": {},
     "output_type": "execute_result"
    }
   ],
   "source": [
    "arr = [2, 3, 7, 8, 10]\n",
    "SUM = 11\n",
    "subsetSum(SUM, arr)"
   ]
  },
  {
   "cell_type": "code",
   "execution_count": 48,
   "metadata": {},
   "outputs": [
    {
     "data": {
      "text/plain": [
       "True"
      ]
     },
     "execution_count": 48,
     "metadata": {},
     "output_type": "execute_result"
    }
   ],
   "source": [
    "# Equal Sum partition\n",
    "arr = [1, 5, 11, 5]\n",
    "\n",
    "def equalSumPartition(arr):\n",
    "    if sum(arr)%2:\n",
    "        return False\n",
    "    else:\n",
    "        result = subsetSum(int(sum(arr)/2), arr)\n",
    "        \n",
    "    return result\n",
    "equalSumPartition(arr)"
   ]
  },
  {
   "cell_type": "code",
   "execution_count": null,
   "metadata": {},
   "outputs": [],
   "source": []
  },
  {
   "cell_type": "code",
   "execution_count": 49,
   "metadata": {},
   "outputs": [
    {
     "data": {
      "text/plain": [
       "3"
      ]
     },
     "execution_count": 49,
     "metadata": {},
     "output_type": "execute_result"
    }
   ],
   "source": [
    "# count number of subset of a given sum\n",
    "arr = [2, 3, 5, 6, 8, 10]\n",
    "SUM = 10\n",
    "# arr = [1, 3, 4]\n",
    "# SUM = 4\n",
    "S = np.zeros((len(arr)+1, SUM+1),dtype='int')\n",
    "def subsetSum(SUM, arr):\n",
    "    n = len(arr)\n",
    "    \n",
    "    S[:,0] = 1\n",
    "    \n",
    "    for i in range(1,n+1):\n",
    "        for j in range(1,SUM+1):\n",
    "            if arr[i-1]<=j:\n",
    "                S[i,j] = S[i-1, j-arr[i-1]] + S[i-1, j]\n",
    "                \n",
    "            else:\n",
    "                S[i,j] = S[i-1, j]\n",
    "    return S[n, SUM] \n",
    "\n",
    "subsetSum(SUM, arr)"
   ]
  },
  {
   "cell_type": "code",
   "execution_count": 50,
   "metadata": {},
   "outputs": [
    {
     "name": "stdout",
     "output_type": "stream",
     "text": [
      "[[1 0 0 0 0 0 0 0 0 0 0]\n",
      " [1 0 1 0 0 0 0 0 0 0 0]\n",
      " [1 0 1 1 0 1 0 0 0 0 0]\n",
      " [1 0 1 1 0 2 0 1 1 0 1]\n",
      " [1 0 1 1 0 2 1 1 2 1 1]\n",
      " [1 0 1 1 0 2 1 1 3 1 2]\n",
      " [1 0 1 1 0 2 1 1 3 1 3]]\n"
     ]
    }
   ],
   "source": [
    "print(S)"
   ]
  },
  {
   "cell_type": "code",
   "execution_count": null,
   "metadata": {},
   "outputs": [],
   "source": []
  },
  {
   "cell_type": "code",
   "execution_count": 80,
   "metadata": {},
   "outputs": [
    {
     "data": {
      "text/plain": [
       "4"
      ]
     },
     "execution_count": 80,
     "metadata": {},
     "output_type": "execute_result"
    }
   ],
   "source": [
    "# Minimum subset sum difference\n",
    "arr = [1, 2, 7]\n",
    "\n",
    "def subsetSum_(SUM, arr):\n",
    "    n = len(arr)    \n",
    "    S = np.zeros((len(arr)+1, SUM+1),dtype='bool')\n",
    "    S[:,0] = True\n",
    "    \n",
    "    for i in range(1, n+1):\n",
    "        for j in range(1, SUM+1):\n",
    "            if arr[i-1]<=j:\n",
    "                S[i,j] = S[i-1, j-arr[i-1]] or S[i-1, j]\n",
    "                \n",
    "            else:\n",
    "                S[i,j] = S[i-1, j]\n",
    "    return S[-1,:] # returning the candidate values of one partion sum\n",
    "\n",
    "def minSubsetDifference(arr):\n",
    "    RANGE = sum(arr)\n",
    "    vector = subsetSum_(10, arr)\n",
    "    candidates = [i for i in range(len(vector)) if vector[i]]\n",
    "    minimum = RANGE\n",
    "    for candidate in candidates:\n",
    "        if min(minimum, RANGE-2*candidate)>0:\n",
    "            minimum = min(minimum, RANGE-2*candidate)\n",
    "        else:\n",
    "            break\n",
    "    return minimum\n",
    "\n",
    "minSubsetDifference(arr)"
   ]
  },
  {
   "cell_type": "code",
   "execution_count": null,
   "metadata": {},
   "outputs": [],
   "source": []
  },
  {
   "cell_type": "code",
   "execution_count": null,
   "metadata": {},
   "outputs": [],
   "source": []
  }
 ],
 "metadata": {
  "kernelspec": {
   "display_name": "Python 3",
   "language": "python",
   "name": "python3"
  },
  "language_info": {
   "codemirror_mode": {
    "name": "ipython",
    "version": 3
   },
   "file_extension": ".py",
   "mimetype": "text/x-python",
   "name": "python",
   "nbconvert_exporter": "python",
   "pygments_lexer": "ipython3",
   "version": "3.6.10"
  }
 },
 "nbformat": 4,
 "nbformat_minor": 4
}
