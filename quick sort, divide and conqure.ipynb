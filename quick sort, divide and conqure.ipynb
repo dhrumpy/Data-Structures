{
 "cells": [
  {
   "cell_type": "code",
   "execution_count": 10,
   "metadata": {},
   "outputs": [],
   "source": [
    "def quickSort(arr):\n",
    "    if len(arr)<2:\n",
    "        return arr\n",
    "    else:\n",
    "        pivot = arr[0]\n",
    "        print(pivot)\n",
    "        less = [i for i in arr[1:] if i<=pivot]\n",
    "        greater = [i for i in arr[1:] if i>pivot]\n",
    "        return quickSort(less) + [pivot] + quickSort(greater)"
   ]
  },
  {
   "cell_type": "code",
   "execution_count": 11,
   "metadata": {},
   "outputs": [
    {
     "name": "stdout",
     "output_type": "stream",
     "text": [
      "27\n",
      "2\n",
      "-3\n",
      "1\n",
      "19\n",
      "12\n"
     ]
    },
    {
     "data": {
      "text/plain": [
       "[-3, 1, 2, 2, 12, 17, 19, 27]"
      ]
     },
     "execution_count": 11,
     "metadata": {},
     "output_type": "execute_result"
    }
   ],
   "source": [
    "quickSort([27, 2, 19, -3, 12, 17, 1, 2])"
   ]
  },
  {
   "cell_type": "code",
   "execution_count": null,
   "metadata": {},
   "outputs": [],
   "source": []
  }
 ],
 "metadata": {
  "kernelspec": {
   "display_name": "Python 3",
   "language": "python",
   "name": "python3"
  },
  "language_info": {
   "codemirror_mode": {
    "name": "ipython",
    "version": 3
   },
   "file_extension": ".py",
   "mimetype": "text/x-python",
   "name": "python",
   "nbconvert_exporter": "python",
   "pygments_lexer": "ipython3",
   "version": "3.6.10"
  }
 },
 "nbformat": 4,
 "nbformat_minor": 4
}
