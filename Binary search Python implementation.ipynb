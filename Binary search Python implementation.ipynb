{
 "cells": [
  {
   "cell_type": "code",
   "execution_count": null,
   "metadata": {},
   "outputs": [],
   "source": [
    "# Working\n",
    "def binary_search(arr, target, low_index, high_index):\n",
    "    mid_index = (low_index+high_index)//2\n",
    "#     print((low_index, mid_index, high_index))\n",
    "    if (low_index>mid_index):\n",
    "        print('Not in the list')\n",
    "        return -1\n",
    "    else:\n",
    "        if (arr[mid_index]==target):\n",
    "            print('Element is present in {} index location (index starting from zero).'.format(mid_index))\n",
    "\n",
    "        else:\n",
    "            if (arr[mid_index]>target):\n",
    "                binary_search(arr,target, low_index, mid_index-1)\n",
    "            elif (arr[mid_index]<target):\n",
    "                binary_search(arr,target, mid_index+1, high_index) \n",
    "                \n",
    "    return mid_index\n",
    "\n",
    "\n",
    "arr, target = [0,1,5,6,7,8,8,8,9,12], 8\n",
    "binary_search(arr,target, low_index = 0, high_index = len(arr)-1)"
   ]
  },
  {
   "cell_type": "code",
   "execution_count": null,
   "metadata": {},
   "outputs": [],
   "source": [
    "arr, target = [0,1,5,6,7,8,8,8,9,12], 8\n",
    "low_index, high_index = 0, len(arr)-1\n",
    "mid_index = low_index+(high_index-low_index)//2"
   ]
  },
  {
   "cell_type": "code",
   "execution_count": null,
   "metadata": {},
   "outputs": [],
   "source": [
    "mid_index"
   ]
  },
  {
   "cell_type": "code",
   "execution_count": null,
   "metadata": {},
   "outputs": [],
   "source": [
    "def binary_search2(arr, target):\n",
    "    left_index, right_index = 0, len(arr)-1\n",
    "    while (left_index<=right_index):\n",
    "        mid_index = left_index+(right_index-left_index)//2\n",
    "        if (arr[mid_index]==target):\n",
    "            return mid_index\n",
    "        elif (arr[mid_index]>target):\n",
    "            right_index=mid_index-1\n",
    "        else:\n",
    "            left_index = mid_index+1\n",
    "    \n",
    "    return -1\n",
    "\n",
    "arr, target = [0,1,5,6,7,8,9,12], 0\n",
    "binary_search2(arr,target)"
   ]
  },
  {
   "cell_type": "code",
   "execution_count": null,
   "metadata": {},
   "outputs": [],
   "source": []
  },
  {
   "cell_type": "code",
   "execution_count": null,
   "metadata": {},
   "outputs": [],
   "source": [
    "# find element which is greater than or equal to a target value\n",
    "\n",
    "def first_value_grt_or_equal_to_target(arr, target):\n",
    "    left_index, right_index, answer = 0, len(arr)-1, -1    \n",
    "    while(left_index<=right_index):\n",
    "        mid_index = left_index+(right_index-left_index)//2\n",
    "        if(arr[mid_index]>=target):\n",
    "            answer = arr[mid_index]\n",
    "            right_index = mid_index-1\n",
    "        else:\n",
    "            left_index = mid_index+1\n",
    "    \n",
    "    return answer\n",
    "\n",
    "arr, target = [0,1,5,6,7,8,9,12], 2\n",
    "first_value_grt_or_equal_to_target(arr, target)"
   ]
  },
  {
   "cell_type": "code",
   "execution_count": 29,
   "metadata": {},
   "outputs": [
    {
     "data": {
      "text/plain": [
       "5.000000002037268"
      ]
     },
     "execution_count": 29,
     "metadata": {},
     "output_type": "execute_result"
    }
   ],
   "source": [
    "# find square root of a target number \n",
    "def square_root(low_limit, high_limit, target, precission):\n",
    "    \n",
    "    while (high_limit-low_limit>=precission):\n",
    "        mid_value = low_limit + (high_limit-low_limit)/2\n",
    "        if (pow(mid_value,2)==target):\n",
    "            break\n",
    "        elif (pow(mid_value,2)>target):\n",
    "            high_limit = mid_value\n",
    "        else:\n",
    "            low_limit = mid_value       \n",
    "    return mid_value\n",
    "\n",
    "\n",
    "square_root(1,100,25, 1e-8)"
   ]
  },
  {
   "cell_type": "code",
   "execution_count": 36,
   "metadata": {},
   "outputs": [
    {
     "data": {
      "text/plain": [
       "16.000000003317837"
      ]
     },
     "execution_count": 36,
     "metadata": {},
     "output_type": "execute_result"
    }
   ],
   "source": [
    "# find square of a target number \n",
    "def square(low_limit, high_limit, target, precission):\n",
    "    \n",
    "    while (high_limit-low_limit>=precission):\n",
    "        mid_value = low_limit + (high_limit-low_limit)/2\n",
    "        if (mid_value==target*target):\n",
    "            break\n",
    "        elif (mid_value>target*target):\n",
    "            high_limit = mid_value\n",
    "        else:\n",
    "            low_limit = mid_value       \n",
    "    return mid_value\n",
    "\n",
    "\n",
    "square(1,100,4, 1e-8)"
   ]
  },
  {
   "cell_type": "code",
   "execution_count": null,
   "metadata": {},
   "outputs": [],
   "source": []
  },
  {
   "cell_type": "code",
   "execution_count": 33,
   "metadata": {},
   "outputs": [
    {
     "data": {
      "text/plain": [
       "17"
      ]
     },
     "execution_count": 33,
     "metadata": {},
     "output_type": "execute_result"
    }
   ],
   "source": [
    "# find the peak element in an array\n",
    "def peak_element(arr):\n",
    "    left_index, right_index, answer = 0, len(arr)-1, -1\n",
    "    \n",
    "    while(left_index<=right_index):\n",
    "        mid_index = left_index+(right_index-left_index)//2\n",
    "        if(arr[mid_index]>arr[mid_index-1]):\n",
    "            answer = arr[mid_index]\n",
    "            left_index = mid_index+1\n",
    "        else:\n",
    "            right_index = mid_index-1\n",
    "    return answer\n",
    "\n",
    "arr = [0,1,7,9,12, 17, 13, 10,8, 6, 2]\n",
    "peak_element(arr)"
   ]
  },
  {
   "cell_type": "code",
   "execution_count": null,
   "metadata": {},
   "outputs": [],
   "source": []
  }
 ],
 "metadata": {
  "kernelspec": {
   "display_name": "Python 3",
   "language": "python",
   "name": "python3"
  },
  "language_info": {
   "codemirror_mode": {
    "name": "ipython",
    "version": 3
   },
   "file_extension": ".py",
   "mimetype": "text/x-python",
   "name": "python",
   "nbconvert_exporter": "python",
   "pygments_lexer": "ipython3",
   "version": "3.6.10"
  }
 },
 "nbformat": 4,
 "nbformat_minor": 4
}
