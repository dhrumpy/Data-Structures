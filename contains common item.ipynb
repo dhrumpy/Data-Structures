{
 "cells": [
  {
   "cell_type": "raw",
   "metadata": {},
   "source": [
    "Write a function that takes two arrays as input and returns a boolean (true/ false) if there is at least a common element."
   ]
  },
  {
   "cell_type": "code",
   "execution_count": 39,
   "metadata": {},
   "outputs": [],
   "source": [
    "array1 = ['a', 'b', 'c', 'x']\n",
    "array2 = ['z', 'y', 'w']"
   ]
  },
  {
   "cell_type": "code",
   "execution_count": 40,
   "metadata": {},
   "outputs": [],
   "source": [
    "table = {}\n",
    "def containsCommonItem(arr1, arr2):\n",
    "     # declating an empty dictionary\n",
    "    for index, item in enumerate(arr1):\n",
    "        table[arr1[index]] = True\n",
    "    \n",
    "    for index, item in enumerate(arr2):\n",
    "        try:\n",
    "            if (table[arr2[index]]):\n",
    "                return True\n",
    "        except:\n",
    "            continue\n",
    "        \n",
    "    return False"
   ]
  },
  {
   "cell_type": "code",
   "execution_count": 38,
   "metadata": {},
   "outputs": [
    {
     "data": {
      "text/plain": [
       "False"
      ]
     },
     "execution_count": 38,
     "metadata": {},
     "output_type": "execute_result"
    }
   ],
   "source": [
    "containsCommonItem(array1, array2)"
   ]
  },
  {
   "cell_type": "code",
   "execution_count": null,
   "metadata": {},
   "outputs": [],
   "source": []
  },
  {
   "cell_type": "code",
   "execution_count": null,
   "metadata": {},
   "outputs": [],
   "source": []
  },
  {
   "cell_type": "markdown",
   "metadata": {},
   "source": [
    "Find Intersection\n",
    "Have the function FindIntersection(strArr) read the array of strings stored in strArr which will contain 2 elements: the first element will represent a list of comma-separated numbers sorted in ascending order, the second element will represent a second list of comma-separated numbers (also sorted). Your goal is to return a comma-separated string containing the numbers that occur in elements of strArr in sorted order. If there is no intersection, return the string false.\n",
    "\n",
    "Examples\n",
    "\n",
    "Input: {\"1, 3, 4, 7, 13\", \"1, 2, 4, 13, 15\"}\n",
    "\n",
    "Output: 1,4,13\n",
    "\n",
    "\n",
    "Input: {\"1, 3, 9, 10, 17, 18\", \"1, 4, 9, 10\"}\n",
    "\n",
    "Output: 1,9,10"
   ]
  },
  {
   "cell_type": "code",
   "execution_count": 5,
   "metadata": {},
   "outputs": [],
   "source": [
    "arrlist1 = [[1, 3, 4, 7, 13], [1, 2, 4, 13, 15]]\n",
    "arrlist2 = [[1, 3, 9, 10, 17, 18], [1, 4, 9, 10]]"
   ]
  },
  {
   "cell_type": "code",
   "execution_count": 10,
   "metadata": {},
   "outputs": [],
   "source": [
    "def findIntersection(array):\n",
    "    arr1, arr2 = array[0], array[1]\n",
    "    table = {k: True for k in arr1}\n",
    "    result = []\n",
    "    \n",
    "    for i in range(len(arr2)):\n",
    "        try:\n",
    "            if (table[arr2[i]]==True):\n",
    "                result.append(arr2[i])\n",
    "        except:\n",
    "            continue"
   ]
  },
  {
   "cell_type": "code",
   "execution_count": 7,
   "metadata": {},
   "outputs": [],
   "source": [
    "findIntersection"
   ]
  },
  {
   "cell_type": "code",
   "execution_count": 9,
   "metadata": {},
   "outputs": [
    {
     "data": {
      "text/plain": [
       "{1: True, 3: True, 4: True, 7: True, 13: True}"
      ]
     },
     "execution_count": 9,
     "metadata": {},
     "output_type": "execute_result"
    }
   ],
   "source": []
  },
  {
   "cell_type": "code",
   "execution_count": null,
   "metadata": {},
   "outputs": [],
   "source": []
  }
 ],
 "metadata": {
  "kernelspec": {
   "display_name": "Python 3",
   "language": "python",
   "name": "python3"
  },
  "language_info": {
   "codemirror_mode": {
    "name": "ipython",
    "version": 3
   },
   "file_extension": ".py",
   "mimetype": "text/x-python",
   "name": "python",
   "nbconvert_exporter": "python",
   "pygments_lexer": "ipython3",
   "version": "3.6.10"
  }
 },
 "nbformat": 4,
 "nbformat_minor": 4
}
