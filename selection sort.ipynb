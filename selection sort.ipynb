{
 "cells": [
  {
   "cell_type": "code",
   "execution_count": 3,
   "metadata": {},
   "outputs": [],
   "source": [
    "# function to find smallest in an array and return its index\n",
    "def findSmallest(arr):\n",
    "    smallest, smallest_index = arr[0], 0\n",
    "    for i in range(1,len(arr)):\n",
    "        if arr[i]<smallest:\n",
    "            smallest = arr[i]\n",
    "            smallest_index = i\n",
    "    return smallest_index    "
   ]
  },
  {
   "cell_type": "code",
   "execution_count": 4,
   "metadata": {},
   "outputs": [
    {
     "data": {
      "text/plain": [
       "3"
      ]
     },
     "execution_count": 4,
     "metadata": {},
     "output_type": "execute_result"
    }
   ],
   "source": [
    "findSmallest([2, 5, 23, -6, 3])"
   ]
  },
  {
   "cell_type": "code",
   "execution_count": null,
   "metadata": {},
   "outputs": [],
   "source": [
    "def selectionSort(arr):\n",
    "    sortedArr = []\n",
    "    for i in range(len(arr)):\n",
    "#         print(len(arr), arr)\n",
    "        smallest_index = findSmallest(arr)\n",
    "        sortedArr.append(arr[smallest_index])\n",
    "        arr.remove(arr[smallest_index])\n",
    "    return sortedArr\n",
    "selectionSort([2, 5, 23, -6, 3])"
   ]
  },
  {
   "cell_type": "code",
   "execution_count": 11,
   "metadata": {},
   "outputs": [
    {
     "data": {
      "text/plain": [
       "[3, 5, 23, 3, 3]"
      ]
     },
     "execution_count": 11,
     "metadata": {},
     "output_type": "execute_result"
    }
   ],
   "source": [
    "def swap(a, b):\n",
    "    temp = a\n",
    "    b = a\n",
    "    a = temp\n",
    "    return b, a\n",
    "\n",
    "def selectionSort2(arr):\n",
    "    for i in range(len(arr)-1):\n",
    "        min_index = i\n",
    "        for j in range(len(arr)):\n",
    "            if arr[j]<arr[min_index]:\n",
    "                min_index = j\n",
    "                arr[j], arr[min_index] = swap(arr[j], arr[min_index])\n",
    "                \n",
    "    return arr\n",
    "selectionSort2([2, 5, 23, -6, 3])"
   ]
  },
  {
   "cell_type": "code",
   "execution_count": null,
   "metadata": {},
   "outputs": [],
   "source": []
  }
 ],
 "metadata": {
  "kernelspec": {
   "display_name": "Python 3",
   "language": "python",
   "name": "python3"
  },
  "language_info": {
   "codemirror_mode": {
    "name": "ipython",
    "version": 3
   },
   "file_extension": ".py",
   "mimetype": "text/x-python",
   "name": "python",
   "nbconvert_exporter": "python",
   "pygments_lexer": "ipython3",
   "version": "3.6.10"
  }
 },
 "nbformat": 4,
 "nbformat_minor": 4
}
