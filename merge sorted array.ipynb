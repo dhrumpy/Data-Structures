{
 "cells": [
  {
   "cell_type": "code",
   "execution_count": 2,
   "metadata": {},
   "outputs": [],
   "source": [
    "array1 = [0, 3, 4, 31]\n",
    "array2 = [4, 6, 30]"
   ]
  },
  {
   "cell_type": "code",
   "execution_count": 45,
   "metadata": {},
   "outputs": [],
   "source": [
    "def mergeSortedArray(arr1, arr2):\n",
    "    arr1.append(None)\n",
    "    arr2.append(None)\n",
    "    \n",
    "    mergedArray, i, j = [], 0, 0        \n",
    "    arr1Head, arr2Head = arr1[i], arr2[j]\n",
    "    \n",
    "    while(arr1Head or arr2Head):\n",
    "        \n",
    "#         print(arr1Head, arr2Head)\n",
    "        if (arr1Head!=None and arr2Head==None):\n",
    "            mergedArray.append(arr1Head)\n",
    "            i+=1\n",
    "            arr1Head = arr1[i]\n",
    "            \n",
    "        elif (arr2Head!=None and arr1Head==None):\n",
    "            mergedArray.append(arr2Head)\n",
    "            j+=1\n",
    "            arr2Head = arr2[j]\n",
    "            \n",
    "        else:\n",
    "            if (arr1Head<arr2Head):\n",
    "                mergedArray.append(arr1Head)\n",
    "                i+=1\n",
    "                arr1Head = arr1[i]\n",
    "\n",
    "            else:\n",
    "                mergedArray.append(arr2Head)\n",
    "                j+=1\n",
    "                arr2Head = arr2[j]\n",
    "    return mergedArray"
   ]
  },
  {
   "cell_type": "code",
   "execution_count": 46,
   "metadata": {},
   "outputs": [
    {
     "data": {
      "text/plain": [
       "[0, 3, 4, 4, 6, 30, 31]"
      ]
     },
     "execution_count": 46,
     "metadata": {},
     "output_type": "execute_result"
    }
   ],
   "source": [
    "mergeSortedArray(array1, array2)"
   ]
  },
  {
   "cell_type": "code",
   "execution_count": null,
   "metadata": {},
   "outputs": [],
   "source": []
  }
 ],
 "metadata": {
  "kernelspec": {
   "display_name": "Python 3",
   "language": "python",
   "name": "python3"
  },
  "language_info": {
   "codemirror_mode": {
    "name": "ipython",
    "version": 3
   },
   "file_extension": ".py",
   "mimetype": "text/x-python",
   "name": "python",
   "nbconvert_exporter": "python",
   "pygments_lexer": "ipython3",
   "version": "3.6.10"
  }
 },
 "nbformat": 4,
 "nbformat_minor": 4
}
